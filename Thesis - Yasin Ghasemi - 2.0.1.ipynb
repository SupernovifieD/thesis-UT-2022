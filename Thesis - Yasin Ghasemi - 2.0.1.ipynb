{
 "cells": [
  {
   "cell_type": "markdown",
   "metadata": {},
   "source": [
    "# Mineral Potential Mapping with Python - A Practical Tool\n",
    "\n",
    "In this notebook, a simple but practical tool has been developed with python which helps with geochemical modelling. The core of all of the processes is based on an article by Mahyar Yousefi and Emmanuel Carranza <a name=\"cite_ref-1\"></a>[<sup>[1]</sup>](#cite_note-1). According to the article, assignment of weights to different classes of evidence in an evidential map is usually done through expert's opinion with some trial-and-error. In order to do this process in a data-driven way rather than using expert's opinion, a new method using prediction-area (P-A) plots and normalized density is introduced to determine weights of every single evidential map. In the following lines the literature disccused in the aforementioned work is programmed in Python.\n",
    "\n",
    "The programming language used in here is python. There are several reasons for the choice. The most important ones is that this language is agile and is easy to read and develop. Researchers can easily modify the code based on their needs.\n",
    "\n",
    "This program has been developed in three parts. The first Part, [Part 1](#Part1), is where all the preprocessing happens - from installing/importing the necessary libraries to statistical analysis of the data. The second Part, [Part 2](#Part2), is where the core of the processes has been programmed - gridding, mapping, PC analysis, Concentration-Area fractal modelling, descretizing, and Prediction-Area diagram drawing. The [final part](#Finalwords) is dedicated to discussion current issues with the code and suggestions for future development."
   ]
  },
  {
   "cell_type": "markdown",
   "metadata": {},
   "source": [
    "## Table of Contents\n",
    "\n",
    "1. [Part 1](#Part1)\n",
    "    1. [Libraries](#Libraries)\n",
    "    2. [The data](#data)\n",
    "    3. [Input Variables](#var)\n",
    "    4. [Statistical Analysis](#stats)\n",
    "        1.[Basic Statistics](#basicstats)\n",
    "2. [Part 2](#Part2)\n",
    "    1. [Gridding](#gridding)\n",
    "4. [References](#refer)"
   ]
  },
  {
   "cell_type": "markdown",
   "metadata": {},
   "source": [
    "## Part 1 <a name=\"Part1\"></a>\n",
    "\n",
    "Preprocessing starts here. This stage includes: installing/importing the necessary libraries, creating a pandas DataFrame and importing the data, importing all the necessary variables, and analyzing the data statistically."
   ]
  },
  {
   "cell_type": "markdown",
   "metadata": {},
   "source": [
    "### Libraries <a name=\"Libraries\"></a>\n",
    "\n",
    "This program relies on several well-known libraries including `numpy`, `pandas`, `matplotlib`, `scikit-learn`, and `scipy`. This program is designed to have the fewest number of dependencies. Please make sure you have the packages installed. Otherwise, go on and uncomment lines in the following box to install them."
   ]
  },
  {
   "cell_type": "code",
   "execution_count": 1,
   "metadata": {},
   "outputs": [],
   "source": [
    "#import sys\n",
    "#!{sys.executable} -m pip install numpy pandas matplotlib sklearn scipy"
   ]
  },
  {
   "cell_type": "markdown",
   "metadata": {},
   "source": [
    "In case the packages have been installed, we only need to import them."
   ]
  },
  {
   "cell_type": "code",
   "execution_count": 2,
   "metadata": {},
   "outputs": [],
   "source": [
    "import pandas as pd\n",
    "import numpy as np\n",
    "import matplotlib.pyplot as plt\n",
    "import matplotlib as mpl\n",
    "\n",
    "from sklearn.preprocessing import StandardScaler, MinMaxScaler\n",
    "from sklearn.decomposition import PCA\n",
    "from scipy.interpolate import griddata\n",
    "from scipy.stats import describe, probplot, stats\n",
    "from scipy import interpolate\n",
    "from math import *"
   ]
  },
  {
   "cell_type": "markdown",
   "metadata": {},
   "source": [
    "### The data <a name=\"data\"></a>\n",
    "\n",
    "\n",
    "In the following cell, the data, which is a csv file, is imported into a Pandas DataFrame. This helps with handling the data in the most flexible way possible and makes data processing much easier than any other data handling method. After importing, some minor processing are done to polish the data; like dropping empty cells, and duplicates from the dataframe.\n",
    "\n",
    "By default, the program reads the file from the same directory as it is in. But the user can give the desired file path to the program as long as it is a csv file. In case importing an excel file, please read the [documentation](https://pandas.pydata.org/docs/reference/api/pandas.read_excel.html) for modifying the code accordingly."
   ]
  },
  {
   "cell_type": "code",
   "execution_count": 6,
   "metadata": {},
   "outputs": [],
   "source": [
    "raw_data = pd.read_csv('Data.csv')\n",
    "raw_data = raw_data.replace(\"\", np.nan)\n",
    "raw_data = raw_data.dropna()\n",
    "raw_data = raw_data.drop_duplicates().loc[:, 'X':]"
   ]
  },
  {
   "cell_type": "markdown",
   "metadata": {},
   "source": [
    "It's best that the user sees the first few lines of the main csv file, which is now imported to a DataFrame. The following cell does this."
   ]
  },
  {
   "cell_type": "code",
   "execution_count": 5,
   "metadata": {},
   "outputs": [
    {
     "data": {
      "text/html": [
       "<div>\n",
       "<style scoped>\n",
       "    .dataframe tbody tr th:only-of-type {\n",
       "        vertical-align: middle;\n",
       "    }\n",
       "\n",
       "    .dataframe tbody tr th {\n",
       "        vertical-align: top;\n",
       "    }\n",
       "\n",
       "    .dataframe thead th {\n",
       "        text-align: right;\n",
       "    }\n",
       "</style>\n",
       "<table border=\"1\" class=\"dataframe\">\n",
       "  <thead>\n",
       "    <tr style=\"text-align: right;\">\n",
       "      <th></th>\n",
       "      <th>X</th>\n",
       "      <th>Y</th>\n",
       "      <th>Zn</th>\n",
       "      <th>Pb</th>\n",
       "      <th>Ag</th>\n",
       "      <th>Cu</th>\n",
       "      <th>Mo</th>\n",
       "      <th>Cr</th>\n",
       "      <th>Ni</th>\n",
       "      <th>Co</th>\n",
       "      <th>Ba</th>\n",
       "    </tr>\n",
       "  </thead>\n",
       "  <tbody>\n",
       "    <tr>\n",
       "      <th>0</th>\n",
       "      <td>431434.79</td>\n",
       "      <td>3305001.94</td>\n",
       "      <td>87</td>\n",
       "      <td>7</td>\n",
       "      <td>0.02</td>\n",
       "      <td>42</td>\n",
       "      <td>2</td>\n",
       "      <td>57</td>\n",
       "      <td>38</td>\n",
       "      <td>14</td>\n",
       "      <td>393</td>\n",
       "    </tr>\n",
       "    <tr>\n",
       "      <th>1</th>\n",
       "      <td>432522.60</td>\n",
       "      <td>3298058.43</td>\n",
       "      <td>70</td>\n",
       "      <td>6</td>\n",
       "      <td>0.02</td>\n",
       "      <td>56</td>\n",
       "      <td>2</td>\n",
       "      <td>27</td>\n",
       "      <td>29</td>\n",
       "      <td>20</td>\n",
       "      <td>404</td>\n",
       "    </tr>\n",
       "    <tr>\n",
       "      <th>2</th>\n",
       "      <td>438045.35</td>\n",
       "      <td>3291987.05</td>\n",
       "      <td>75</td>\n",
       "      <td>5</td>\n",
       "      <td>0.02</td>\n",
       "      <td>69</td>\n",
       "      <td>2</td>\n",
       "      <td>44</td>\n",
       "      <td>23</td>\n",
       "      <td>17</td>\n",
       "      <td>417</td>\n",
       "    </tr>\n",
       "    <tr>\n",
       "      <th>3</th>\n",
       "      <td>436260.76</td>\n",
       "      <td>3294412.90</td>\n",
       "      <td>70</td>\n",
       "      <td>6</td>\n",
       "      <td>0.02</td>\n",
       "      <td>54</td>\n",
       "      <td>1</td>\n",
       "      <td>20</td>\n",
       "      <td>19</td>\n",
       "      <td>12</td>\n",
       "      <td>377</td>\n",
       "    </tr>\n",
       "    <tr>\n",
       "      <th>4</th>\n",
       "      <td>439294.48</td>\n",
       "      <td>3297653.81</td>\n",
       "      <td>168</td>\n",
       "      <td>14</td>\n",
       "      <td>0.02</td>\n",
       "      <td>27</td>\n",
       "      <td>2</td>\n",
       "      <td>31</td>\n",
       "      <td>18</td>\n",
       "      <td>14</td>\n",
       "      <td>277</td>\n",
       "    </tr>\n",
       "  </tbody>\n",
       "</table>\n",
       "</div>"
      ],
      "text/plain": [
       "           X           Y   Zn  Pb    Ag  Cu  Mo  Cr  Ni  Co   Ba\n",
       "0  431434.79  3305001.94   87   7  0.02  42   2  57  38  14  393\n",
       "1  432522.60  3298058.43   70   6  0.02  56   2  27  29  20  404\n",
       "2  438045.35  3291987.05   75   5  0.02  69   2  44  23  17  417\n",
       "3  436260.76  3294412.90   70   6  0.02  54   1  20  19  12  377\n",
       "4  439294.48  3297653.81  168  14  0.02  27   2  31  18  14  277"
      ]
     },
     "execution_count": 5,
     "metadata": {},
     "output_type": "execute_result"
    }
   ],
   "source": [
    "raw_data.head()"
   ]
  },
  {
   "cell_type": "markdown",
   "metadata": {},
   "source": [
    "This data belongs to an area in south eastern regions of Iran. This DataFrame includes cartesian coordinates, and 9 element concenterations. All of the following processes are done using this dataset. "
   ]
  },
  {
   "cell_type": "markdown",
   "metadata": {},
   "source": [
    "### Input Variables<a name=\"var\"></a>\n",
    "\n",
    "There are several variables that the user needs to enter so the program can run. Here, the user enters all of them together so there wouldn't be much confusion over them further down the file. Different interpolation methods are discussed in the [gridding](#gridding) section."
   ]
  },
  {
   "cell_type": "code",
   "execution_count": 8,
   "metadata": {},
   "outputs": [
    {
     "name": "stdout",
     "output_type": "stream",
     "text": [
      "\n",
      " For what columns should the geochemical processes be done? \n",
      " Please use 'space' as a separator. \n",
      "Zn Pb Ag Cu Mo Cr Ni Co Ba\n",
      " Which column corresponds with X axis of the Catesian system?\n",
      "X\n",
      "\n",
      " Which column corresponds with Y axis of the Catesian system?\n",
      "Y\n",
      "\n",
      " Which interpolation method should be used? cubic, linear, or nearest?Please write the desired one.\n",
      "linear\n"
     ]
    }
   ],
   "source": [
    "input_elements = input(\"\\n For what columns should the geochemical processes be done? \"\n",
    "                       \"\\n Please use 'space' as a separator. \\n\")\n",
    "# Zn Pb Ag Cu Mo Cr Ni Co Ba\n",
    "\n",
    "input_X = input(\" Which column corresponds with X axis of the Catesian system?\\n\")\n",
    "# X\n",
    "\n",
    "input_Y = input(\"\\n Which column corresponds with Y axis of the Catesian system?\\n\")\n",
    "# Y\n",
    "\n",
    "input_interpol = input(\"\\n Which interpolation method should be used? cubic, linear, or nearest? \"\n",
    "                       \"Please write the desired one.\\n\")\n",
    "# linear"
   ]
  },
  {
   "cell_type": "markdown",
   "metadata": {},
   "source": [
    "### Statistical Analysis<a name=\"stats\"></a>\n",
    "\n",
    "The data should be statistically examined so the user can have a grasb on the data structure. In the next parts, some tools for basic statistics have been developed. "
   ]
  },
  {
   "cell_type": "markdown",
   "metadata": {},
   "source": [
    "#### Basic Statistics <a name=\"basicstats\"></a>\n",
    "\n",
    "A function has been developed which returns the number of observations, minimum and maximum of the data for each column, arithmatic mean, variance, skewness, and kurtosis. All of these calculations, then, are stored in a `list` for use in further steps."
   ]
  },
  {
   "cell_type": "code",
   "execution_count": 7,
   "metadata": {},
   "outputs": [],
   "source": [
    "def basic_stats(raw_data, element_concentration):\n",
    "\n",
    "    selected_values = describe(raw_data.loc[:,f'{element_concentration}'].values)\n",
    "\n",
    "    s1 = str(selected_values.nobs)\n",
    "    s2 = str(selected_values.minmax[0])\n",
    "    s3 = str(selected_values.minmax[1])\n",
    "    s4 = str(round(selected_values.mean, 2))\n",
    "    s5 = str(round(selected_values.variance, 2))\n",
    "    s6 = str(round(selected_values.skewness, 2))\n",
    "    s7 = str(round(selected_values.kurtosis, 2))\n",
    "\n",
    "    return [s1,s2,s3,s4,s5,s6,s7]"
   ]
  },
  {
   "cell_type": "markdown",
   "metadata": {},
   "source": [
    "We need to iterate this function for our desired columns, which in this case is all of the 9 columns containing element concentration. The next block iterates this process for all of the given elements and stores them in a  DataFrame."
   ]
  },
  {
   "cell_type": "code",
   "execution_count": 9,
   "metadata": {},
   "outputs": [],
   "source": [
    "def basic_stats_df(raw_data, element_concentration):\n",
    "\n",
    "    columns = ['No. of Observations', 'Min', 'Max', 'Mean', 'Variance', 'Skewness', 'Kurtosis']\n",
    "    index_names = element_concentration.split()\n",
    "    df = pd.DataFrame(columns=columns)\n",
    "\n",
    "\n",
    "    data = []\n",
    "    selected_columns = raw_data.loc[:, index_names].columns\n",
    "    for counter, column in enumerate(selected_columns):\n",
    "        values = basic_stats(raw_data,element_concentration=column)\n",
    "        zipped = zip(columns, values)\n",
    "        data.append(dict(zipped))\n",
    "        \n",
    "\n",
    "    df = df.append(data,True)\n",
    "\n",
    "    index = pd.Index(index_names)\n",
    "    df = df.set_index(index)\n",
    "\n",
    "    return df"
   ]
  },
  {
   "cell_type": "markdown",
   "metadata": {},
   "source": [
    "Now, that all is set, let's call in the above function to get our hands on basic statistics."
   ]
  },
  {
   "cell_type": "code",
   "execution_count": 10,
   "metadata": {},
   "outputs": [
    {
     "data": {
      "text/html": [
       "<div>\n",
       "<style scoped>\n",
       "    .dataframe tbody tr th:only-of-type {\n",
       "        vertical-align: middle;\n",
       "    }\n",
       "\n",
       "    .dataframe tbody tr th {\n",
       "        vertical-align: top;\n",
       "    }\n",
       "\n",
       "    .dataframe thead th {\n",
       "        text-align: right;\n",
       "    }\n",
       "</style>\n",
       "<table border=\"1\" class=\"dataframe\">\n",
       "  <thead>\n",
       "    <tr style=\"text-align: right;\">\n",
       "      <th></th>\n",
       "      <th>No. of Observations</th>\n",
       "      <th>Min</th>\n",
       "      <th>Max</th>\n",
       "      <th>Mean</th>\n",
       "      <th>Variance</th>\n",
       "      <th>Skewness</th>\n",
       "      <th>Kurtosis</th>\n",
       "    </tr>\n",
       "  </thead>\n",
       "  <tbody>\n",
       "    <tr>\n",
       "      <th>Zn</th>\n",
       "      <td>846</td>\n",
       "      <td>2</td>\n",
       "      <td>752</td>\n",
       "      <td>113.81</td>\n",
       "      <td>6459.84</td>\n",
       "      <td>2.57</td>\n",
       "      <td>11.51</td>\n",
       "    </tr>\n",
       "    <tr>\n",
       "      <th>Pb</th>\n",
       "      <td>846</td>\n",
       "      <td>2</td>\n",
       "      <td>321</td>\n",
       "      <td>23.82</td>\n",
       "      <td>639.82</td>\n",
       "      <td>6.11</td>\n",
       "      <td>56.93</td>\n",
       "    </tr>\n",
       "    <tr>\n",
       "      <th>Ag</th>\n",
       "      <td>846</td>\n",
       "      <td>0.02</td>\n",
       "      <td>1.0</td>\n",
       "      <td>0.03</td>\n",
       "      <td>0.01</td>\n",
       "      <td>11.75</td>\n",
       "      <td>136.01</td>\n",
       "    </tr>\n",
       "    <tr>\n",
       "      <th>Cu</th>\n",
       "      <td>846</td>\n",
       "      <td>2</td>\n",
       "      <td>1200</td>\n",
       "      <td>65.07</td>\n",
       "      <td>2856.14</td>\n",
       "      <td>13.27</td>\n",
       "      <td>255.58</td>\n",
       "    </tr>\n",
       "    <tr>\n",
       "      <th>Mo</th>\n",
       "      <td>846</td>\n",
       "      <td>1</td>\n",
       "      <td>12</td>\n",
       "      <td>1.73</td>\n",
       "      <td>1.07</td>\n",
       "      <td>4.13</td>\n",
       "      <td>29.63</td>\n",
       "    </tr>\n",
       "    <tr>\n",
       "      <th>Cr</th>\n",
       "      <td>846</td>\n",
       "      <td>7</td>\n",
       "      <td>1200</td>\n",
       "      <td>120.74</td>\n",
       "      <td>13063.54</td>\n",
       "      <td>3.41</td>\n",
       "      <td>18.32</td>\n",
       "    </tr>\n",
       "    <tr>\n",
       "      <th>Ni</th>\n",
       "      <td>846</td>\n",
       "      <td>2</td>\n",
       "      <td>1200</td>\n",
       "      <td>68.02</td>\n",
       "      <td>3993.93</td>\n",
       "      <td>7.91</td>\n",
       "      <td>123.54</td>\n",
       "    </tr>\n",
       "    <tr>\n",
       "      <th>Co</th>\n",
       "      <td>846</td>\n",
       "      <td>2</td>\n",
       "      <td>247</td>\n",
       "      <td>28.66</td>\n",
       "      <td>249.24</td>\n",
       "      <td>4.54</td>\n",
       "      <td>51.95</td>\n",
       "    </tr>\n",
       "    <tr>\n",
       "      <th>Ba</th>\n",
       "      <td>846</td>\n",
       "      <td>15</td>\n",
       "      <td>4650</td>\n",
       "      <td>424.46</td>\n",
       "      <td>50244.0</td>\n",
       "      <td>8.25</td>\n",
       "      <td>148.27</td>\n",
       "    </tr>\n",
       "  </tbody>\n",
       "</table>\n",
       "</div>"
      ],
      "text/plain": [
       "   No. of Observations   Min   Max    Mean  Variance Skewness Kurtosis\n",
       "Zn                 846     2   752  113.81   6459.84     2.57    11.51\n",
       "Pb                 846     2   321   23.82    639.82     6.11    56.93\n",
       "Ag                 846  0.02   1.0    0.03      0.01    11.75   136.01\n",
       "Cu                 846     2  1200   65.07   2856.14    13.27   255.58\n",
       "Mo                 846     1    12    1.73      1.07     4.13    29.63\n",
       "Cr                 846     7  1200  120.74  13063.54     3.41    18.32\n",
       "Ni                 846     2  1200   68.02   3993.93     7.91   123.54\n",
       "Co                 846     2   247   28.66    249.24     4.54    51.95\n",
       "Ba                 846    15  4650  424.46   50244.0     8.25   148.27"
      ]
     },
     "execution_count": 10,
     "metadata": {},
     "output_type": "execute_result"
    }
   ],
   "source": [
    "basic_stats_df(raw_data,input_elements)"
   ]
  },
  {
   "cell_type": "code",
   "execution_count": null,
   "metadata": {},
   "outputs": [],
   "source": []
  },
  {
   "cell_type": "markdown",
   "metadata": {},
   "source": [
    "## References <a name=\"refer\"></a>\n",
    "\n",
    "<a name=\"cite_note-1\"></a> 1. [^](#cite_ref-1) Yousefi, Mahyar, and Emmanuel John M. Carranza. “Prediction–Area (P–A) Plot and C–a Fractal Analysis to Classify and Evaluate Evidential Maps for Mineral Prospectivity Modeling.” Computers & Geosciences, vol. 79, June 2015, pp. 69–81."
   ]
  }
 ],
 "metadata": {
  "kernelspec": {
   "display_name": "Python 3",
   "language": "python",
   "name": "python3"
  },
  "language_info": {
   "codemirror_mode": {
    "name": "ipython",
    "version": 3
   },
   "file_extension": ".py",
   "mimetype": "text/x-python",
   "name": "python",
   "nbconvert_exporter": "python",
   "pygments_lexer": "ipython3",
   "version": "3.8.5"
  }
 },
 "nbformat": 4,
 "nbformat_minor": 4
}
